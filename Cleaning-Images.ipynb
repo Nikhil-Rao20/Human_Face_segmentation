{
 "cells": [
  {
   "cell_type": "code",
   "execution_count": 1,
   "id": "2b789f3b",
   "metadata": {},
   "outputs": [],
   "source": [
    "import numpy as np\n",
    "import cv2"
   ]
  },
  {
   "cell_type": "code",
   "execution_count": 2,
   "id": "086582d6",
   "metadata": {},
   "outputs": [],
   "source": [
    "from glob import glob\n",
    "from tqdm import tqdm"
   ]
  },
  {
   "cell_type": "markdown",
   "id": "41bb38f8",
   "metadata": {},
   "source": [
    "# File Images: Size"
   ]
  },
  {
   "cell_type": "code",
   "execution_count": 3,
   "id": "17c60d89",
   "metadata": {},
   "outputs": [],
   "source": [
    "def filter_images_by_size(images, min_size=768):\n",
    "    output = []\n",
    "    for img in tqdm(images, total=len(images)):\n",
    "        x = cv2.imread(img, cv2.IMREAD_COLOR)\n",
    "        \n",
    "        h,w,c = x.shape\n",
    "        if h > min_size:\n",
    "            if w > min_size:\n",
    "                output.append(img)\n",
    "    return output"
   ]
  },
  {
   "cell_type": "code",
   "execution_count": 4,
   "id": "10f356d3",
   "metadata": {},
   "outputs": [],
   "source": [
    "def filter_images_by_potrait(images):\n",
    "    output=[]\n",
    "    for img in tqdm(images, total=len(images)):\n",
    "        x = cv2.imread(img, cv2.IMREAD_COLOR)\n",
    "        h,w,c = x.shape\n",
    "        if h>w:\n",
    "            output.append(img)\n",
    "    return output"
   ]
  },
  {
   "cell_type": "code",
   "execution_count": 10,
   "id": "8c63152b",
   "metadata": {},
   "outputs": [],
   "source": [
    "def saving(images, save_dir, size=(768,512)):\n",
    "    idx=1\n",
    "    for path in tqdm(images, total=len(images)):\n",
    "        x = cv2.imread(path, cv2.IMREAD_COLOR)\n",
    "        scale=20\n",
    "        h = int(x.shape[0] * (scale/100))\n",
    "        w = int(x.shape[1] * (scale/100))\n",
    "        x = cv2.resize(x, (w,h))\n",
    "        if x.shape[0] > size[0] and x.shape[1]>size[1]:\n",
    "            x = x[0:size[0], 0:size[1], :]\n",
    "            cv2.imwrite(f\"{save_dir}/{idx}.jpg\",x)\n",
    "            idx = idx+1"
   ]
  },
  {
   "cell_type": "code",
   "execution_count": 5,
   "id": "c8d9c38b",
   "metadata": {},
   "outputs": [],
   "source": [
    "def save_images(images, save_dir, size=(768, 512)):\n",
    "    idx =1\n",
    "    for path in tqdm(images, total=len(images)):\n",
    "        x = cv2.imread(path, cv2.IMREAD_COLOR)\n",
    "        scale = 20\n",
    "        h = int(x.shape[0] * (scale/100))\n",
    "        w = int(x.shape[1] * (scale/100))\n",
    "        x = cv2.resize(x, (w,h))\n",
    "\n",
    "        if x.shape[0] > size[0] and x.shape[1] > size[1]:\n",
    "            x = x[0:size[0], 0:size[1], :]\n",
    "\n",
    "            cv2.imwrite(f\"{save_dir}/{idx}.jpg\",x)\n",
    "            idx+=1"
   ]
  },
  {
   "cell_type": "markdown",
   "id": "f21de663",
   "metadata": {},
   "source": [
    "# Executing the Program"
   ]
  },
  {
   "cell_type": "code",
   "execution_count": 6,
   "id": "970e96d6",
   "metadata": {},
   "outputs": [
    {
     "name": "stdout",
     "output_type": "stream",
     "text": [
      "Initial Images :  758\n"
     ]
    }
   ],
   "source": [
    "raw_images = glob(\"images/*.jpg\")\n",
    "print(\"Initial Images : \", len(raw_images))"
   ]
  },
  {
   "cell_type": "code",
   "execution_count": 7,
   "id": "b6ccfb7d",
   "metadata": {},
   "outputs": [
    {
     "name": "stderr",
     "output_type": "stream",
     "text": [
      "  0%|          | 0/758 [00:00<?, ?it/s]100%|██████████| 758/758 [00:39<00:00, 19.19it/s] "
     ]
    },
    {
     "name": "stdout",
     "output_type": "stream",
     "text": [
      "Filter by size:  747\n"
     ]
    },
    {
     "name": "stderr",
     "output_type": "stream",
     "text": [
      "\n"
     ]
    }
   ],
   "source": [
    "output = filter_images_by_size(raw_images, min_size=512)\n",
    "print(\"Filter by size: \", len(output))"
   ]
  },
  {
   "cell_type": "code",
   "execution_count": 8,
   "id": "34ce4c64",
   "metadata": {},
   "outputs": [
    {
     "name": "stderr",
     "output_type": "stream",
     "text": [
      "100%|██████████| 747/747 [00:48<00:00, 15.36it/s]"
     ]
    },
    {
     "name": "stdout",
     "output_type": "stream",
     "text": [
      "Filter by potrait:  548\n"
     ]
    },
    {
     "name": "stderr",
     "output_type": "stream",
     "text": [
      "\n"
     ]
    }
   ],
   "source": [
    "output = filter_images_by_potrait(output)\n",
    "print(\"Filter by potrait: \",len(output))\n"
   ]
  },
  {
   "cell_type": "code",
   "execution_count": 12,
   "id": "390b28e1",
   "metadata": {},
   "outputs": [],
   "source": [
    "idx=1\n",
    "for img in output:\n",
    "    x = cv2.imread(img, cv2.IMREAD_COLOR)\n",
    "    x = cv2.resize(x, (512,768))\n",
    "    cv2.imwrite(f\"clean_images/{idx}.jpg\",x)\n",
    "    idx+=1"
   ]
  },
  {
   "cell_type": "code",
   "execution_count": null,
   "id": "e8c59aa4",
   "metadata": {},
   "outputs": [],
   "source": [
    " "
   ]
  }
 ],
 "metadata": {
  "kernelspec": {
   "display_name": "Python 3 (ipykernel)",
   "language": "python",
   "name": "python3"
  },
  "language_info": {
   "codemirror_mode": {
    "name": "ipython",
    "version": 3
   },
   "file_extension": ".py",
   "mimetype": "text/x-python",
   "name": "python",
   "nbconvert_exporter": "python",
   "pygments_lexer": "ipython3",
   "version": "3.11.4"
  }
 },
 "nbformat": 4,
 "nbformat_minor": 5
}

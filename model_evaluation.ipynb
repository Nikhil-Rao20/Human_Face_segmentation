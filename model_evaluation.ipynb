{
 "cells": [
  {
   "cell_type": "markdown",
   "metadata": {},
   "source": [
    "# Vanilla UNet Model Evaluation Metrics"
   ]
  },
  {
   "cell_type": "markdown",
   "metadata": {},
   "source": [
    "### Metrics:\n",
    "<ol>\n",
    "<li>F1</li>\n",
    "<li>Mean loU</li>\n",
    "<li>Recall</li>\n",
    "<li>Precision</li>\n",
    "<li>Accuracy</li>\n",
    "</ol>"
   ]
  },
  {
   "cell_type": "code",
   "execution_count": 1,
   "metadata": {},
   "outputs": [],
   "source": [
    "# Importing Libraries\n",
    "import os\n",
    "import numpy as np\n",
    "import cv2\n",
    "from glob import glob\n",
    "from tqdm import tqdm\n",
    "from sklearn.metrics import accuracy_score, f1_score, recall_score, precision_score, jaccard_score"
   ]
  },
  {
   "cell_type": "code",
   "execution_count": 4,
   "metadata": {},
   "outputs": [],
   "source": [
    "pred_mask = sorted(glob(os.path.join('Predictions','Augumented_Data', '*')))"
   ]
  },
  {
   "cell_type": "code",
   "execution_count": 5,
   "metadata": {},
   "outputs": [],
   "source": [
    "true_mask = sorted(glob(os.path.join(\"Dataset\",\"aug\",\"test\",\"masks\",\"*\")))"
   ]
  },
  {
   "cell_type": "code",
   "execution_count": 6,
   "metadata": {},
   "outputs": [
    {
     "name": "stdout",
     "output_type": "stream",
     "text": [
      "Predictions\\Augumented_Data\\0006_0.jpg Dataset\\aug\\test\\masks\\0006_0.jpg\n"
     ]
    }
   ],
   "source": [
    "print(pred_mask[0], true_mask[0])"
   ]
  },
  {
   "cell_type": "markdown",
   "metadata": {},
   "source": [
    "## Metrics Calculation"
   ]
  },
  {
   "cell_type": "code",
   "execution_count": 22,
   "metadata": {},
   "outputs": [
    {
     "name": "stderr",
     "output_type": "stream",
     "text": [
      "  0%|          | 0/130 [00:00<?, ?it/s]"
     ]
    },
    {
     "name": "stderr",
     "output_type": "stream",
     "text": [
      "  8%|▊         | 10/130 [00:05<01:11,  1.68it/s]c:\\Users\\nikhi\\anaconda3\\envs\\nik_venv\\lib\\site-packages\\sklearn\\metrics\\_classification.py:1469: UndefinedMetricWarning: Recall is ill-defined and being set to 0.0 due to no true samples. Use `zero_division` parameter to control this behavior.\n",
      "  _warn_prf(average, modifier, msg_start, len(result))\n",
      "  8%|▊         | 11/130 [00:06<01:14,  1.61it/s]c:\\Users\\nikhi\\anaconda3\\envs\\nik_venv\\lib\\site-packages\\sklearn\\metrics\\_classification.py:1469: UndefinedMetricWarning: Recall is ill-defined and being set to 0.0 due to no true samples. Use `zero_division` parameter to control this behavior.\n",
      "  _warn_prf(average, modifier, msg_start, len(result))\n",
      " 10%|█         | 13/130 [00:07<01:22,  1.42it/s]c:\\Users\\nikhi\\anaconda3\\envs\\nik_venv\\lib\\site-packages\\sklearn\\metrics\\_classification.py:1469: UndefinedMetricWarning: Recall is ill-defined and being set to 0.0 due to no true samples. Use `zero_division` parameter to control this behavior.\n",
      "  _warn_prf(average, modifier, msg_start, len(result))\n",
      " 11%|█         | 14/130 [00:08<01:21,  1.43it/s]c:\\Users\\nikhi\\anaconda3\\envs\\nik_venv\\lib\\site-packages\\sklearn\\metrics\\_classification.py:1469: UndefinedMetricWarning: Recall is ill-defined and being set to 0.0 due to no true samples. Use `zero_division` parameter to control this behavior.\n",
      "  _warn_prf(average, modifier, msg_start, len(result))\n",
      " 15%|█▌        | 20/130 [00:12<01:30,  1.22it/s]c:\\Users\\nikhi\\anaconda3\\envs\\nik_venv\\lib\\site-packages\\sklearn\\metrics\\_classification.py:1469: UndefinedMetricWarning: Recall is ill-defined and being set to 0.0 due to no true samples. Use `zero_division` parameter to control this behavior.\n",
      "  _warn_prf(average, modifier, msg_start, len(result))\n",
      " 16%|█▌        | 21/130 [00:13<01:31,  1.19it/s]c:\\Users\\nikhi\\anaconda3\\envs\\nik_venv\\lib\\site-packages\\sklearn\\metrics\\_classification.py:1469: UndefinedMetricWarning: Recall is ill-defined and being set to 0.0 due to no true samples. Use `zero_division` parameter to control this behavior.\n",
      "  _warn_prf(average, modifier, msg_start, len(result))\n",
      " 18%|█▊        | 24/130 [00:16<01:33,  1.14it/s]c:\\Users\\nikhi\\anaconda3\\envs\\nik_venv\\lib\\site-packages\\sklearn\\metrics\\_classification.py:1469: UndefinedMetricWarning: Recall is ill-defined and being set to 0.0 due to no true samples. Use `zero_division` parameter to control this behavior.\n",
      "  _warn_prf(average, modifier, msg_start, len(result))\n",
      " 23%|██▎       | 30/130 [00:22<01:30,  1.11it/s]c:\\Users\\nikhi\\anaconda3\\envs\\nik_venv\\lib\\site-packages\\sklearn\\metrics\\_classification.py:1469: UndefinedMetricWarning: Recall is ill-defined and being set to 0.0 due to no true samples. Use `zero_division` parameter to control this behavior.\n",
      "  _warn_prf(average, modifier, msg_start, len(result))\n",
      " 24%|██▍       | 31/130 [00:22<01:28,  1.12it/s]c:\\Users\\nikhi\\anaconda3\\envs\\nik_venv\\lib\\site-packages\\sklearn\\metrics\\_classification.py:1469: UndefinedMetricWarning: Recall is ill-defined and being set to 0.0 due to no true samples. Use `zero_division` parameter to control this behavior.\n",
      "  _warn_prf(average, modifier, msg_start, len(result))\n",
      " 25%|██▌       | 33/130 [00:24<01:28,  1.10it/s]c:\\Users\\nikhi\\anaconda3\\envs\\nik_venv\\lib\\site-packages\\sklearn\\metrics\\_classification.py:1469: UndefinedMetricWarning: Recall is ill-defined and being set to 0.0 due to no true samples. Use `zero_division` parameter to control this behavior.\n",
      "  _warn_prf(average, modifier, msg_start, len(result))\n",
      " 26%|██▌       | 34/130 [00:25<01:27,  1.10it/s]c:\\Users\\nikhi\\anaconda3\\envs\\nik_venv\\lib\\site-packages\\sklearn\\metrics\\_classification.py:1469: UndefinedMetricWarning: Recall is ill-defined and being set to 0.0 due to no true samples. Use `zero_division` parameter to control this behavior.\n",
      "  _warn_prf(average, modifier, msg_start, len(result))\n",
      " 38%|███▊      | 50/130 [00:40<01:10,  1.14it/s]c:\\Users\\nikhi\\anaconda3\\envs\\nik_venv\\lib\\site-packages\\sklearn\\metrics\\_classification.py:1469: UndefinedMetricWarning: Recall is ill-defined and being set to 0.0 due to no true samples. Use `zero_division` parameter to control this behavior.\n",
      "  _warn_prf(average, modifier, msg_start, len(result))\n",
      " 39%|███▉      | 51/130 [00:40<01:08,  1.15it/s]c:\\Users\\nikhi\\anaconda3\\envs\\nik_venv\\lib\\site-packages\\sklearn\\metrics\\_classification.py:1469: UndefinedMetricWarning: Recall is ill-defined and being set to 0.0 due to no true samples. Use `zero_division` parameter to control this behavior.\n",
      "  _warn_prf(average, modifier, msg_start, len(result))\n",
      " 40%|████      | 52/130 [00:41<01:10,  1.10it/s]c:\\Users\\nikhi\\anaconda3\\envs\\nik_venv\\lib\\site-packages\\sklearn\\metrics\\_classification.py:1469: UndefinedMetricWarning: Recall is ill-defined and being set to 0.0 due to no true samples. Use `zero_division` parameter to control this behavior.\n",
      "  _warn_prf(average, modifier, msg_start, len(result))\n",
      " 41%|████      | 53/130 [00:42<01:12,  1.06it/s]c:\\Users\\nikhi\\anaconda3\\envs\\nik_venv\\lib\\site-packages\\sklearn\\metrics\\_classification.py:1469: UndefinedMetricWarning: Recall is ill-defined and being set to 0.0 due to no true samples. Use `zero_division` parameter to control this behavior.\n",
      "  _warn_prf(average, modifier, msg_start, len(result))\n",
      " 42%|████▏     | 54/130 [00:43<01:10,  1.08it/s]c:\\Users\\nikhi\\anaconda3\\envs\\nik_venv\\lib\\site-packages\\sklearn\\metrics\\_classification.py:1469: UndefinedMetricWarning: Recall is ill-defined and being set to 0.0 due to no true samples. Use `zero_division` parameter to control this behavior.\n",
      "  _warn_prf(average, modifier, msg_start, len(result))\n",
      " 42%|████▏     | 55/130 [00:44<01:09,  1.08it/s]c:\\Users\\nikhi\\anaconda3\\envs\\nik_venv\\lib\\site-packages\\sklearn\\metrics\\_classification.py:1469: UndefinedMetricWarning: Recall is ill-defined and being set to 0.0 due to no true samples. Use `zero_division` parameter to control this behavior.\n",
      "  _warn_prf(average, modifier, msg_start, len(result))\n",
      " 43%|████▎     | 56/130 [00:45<01:08,  1.08it/s]c:\\Users\\nikhi\\anaconda3\\envs\\nik_venv\\lib\\site-packages\\sklearn\\metrics\\_classification.py:1469: UndefinedMetricWarning: Recall is ill-defined and being set to 0.0 due to no true samples. Use `zero_division` parameter to control this behavior.\n",
      "  _warn_prf(average, modifier, msg_start, len(result))\n",
      " 45%|████▍     | 58/130 [00:47<01:09,  1.03it/s]c:\\Users\\nikhi\\anaconda3\\envs\\nik_venv\\lib\\site-packages\\sklearn\\metrics\\_classification.py:1469: UndefinedMetricWarning: Recall is ill-defined and being set to 0.0 due to no true samples. Use `zero_division` parameter to control this behavior.\n",
      "  _warn_prf(average, modifier, msg_start, len(result))\n",
      " 45%|████▌     | 59/130 [00:48<01:06,  1.06it/s]c:\\Users\\nikhi\\anaconda3\\envs\\nik_venv\\lib\\site-packages\\sklearn\\metrics\\_classification.py:1469: UndefinedMetricWarning: Recall is ill-defined and being set to 0.0 due to no true samples. Use `zero_division` parameter to control this behavior.\n",
      "  _warn_prf(average, modifier, msg_start, len(result))\n",
      " 46%|████▌     | 60/130 [00:49<01:04,  1.08it/s]c:\\Users\\nikhi\\anaconda3\\envs\\nik_venv\\lib\\site-packages\\sklearn\\metrics\\_classification.py:1469: UndefinedMetricWarning: Recall is ill-defined and being set to 0.0 due to no true samples. Use `zero_division` parameter to control this behavior.\n",
      "  _warn_prf(average, modifier, msg_start, len(result))\n",
      " 47%|████▋     | 61/130 [00:50<01:02,  1.10it/s]c:\\Users\\nikhi\\anaconda3\\envs\\nik_venv\\lib\\site-packages\\sklearn\\metrics\\_classification.py:1469: UndefinedMetricWarning: Recall is ill-defined and being set to 0.0 due to no true samples. Use `zero_division` parameter to control this behavior.\n",
      "  _warn_prf(average, modifier, msg_start, len(result))\n",
      " 48%|████▊     | 63/130 [00:52<01:01,  1.08it/s]c:\\Users\\nikhi\\anaconda3\\envs\\nik_venv\\lib\\site-packages\\sklearn\\metrics\\_classification.py:1469: UndefinedMetricWarning: Recall is ill-defined and being set to 0.0 due to no true samples. Use `zero_division` parameter to control this behavior.\n",
      "  _warn_prf(average, modifier, msg_start, len(result))\n",
      " 49%|████▉     | 64/130 [00:53<01:00,  1.09it/s]c:\\Users\\nikhi\\anaconda3\\envs\\nik_venv\\lib\\site-packages\\sklearn\\metrics\\_classification.py:1469: UndefinedMetricWarning: Recall is ill-defined and being set to 0.0 due to no true samples. Use `zero_division` parameter to control this behavior.\n",
      "  _warn_prf(average, modifier, msg_start, len(result))\n",
      " 58%|█████▊    | 76/130 [01:04<00:48,  1.11it/s]c:\\Users\\nikhi\\anaconda3\\envs\\nik_venv\\lib\\site-packages\\sklearn\\metrics\\_classification.py:1469: UndefinedMetricWarning: Recall is ill-defined and being set to 0.0 due to no true samples. Use `zero_division` parameter to control this behavior.\n",
      "  _warn_prf(average, modifier, msg_start, len(result))\n",
      " 60%|██████    | 78/130 [01:05<00:45,  1.14it/s]c:\\Users\\nikhi\\anaconda3\\envs\\nik_venv\\lib\\site-packages\\sklearn\\metrics\\_classification.py:1469: UndefinedMetricWarning: Recall is ill-defined and being set to 0.0 due to no true samples. Use `zero_division` parameter to control this behavior.\n",
      "  _warn_prf(average, modifier, msg_start, len(result))\n",
      " 61%|██████    | 79/130 [01:06<00:44,  1.15it/s]c:\\Users\\nikhi\\anaconda3\\envs\\nik_venv\\lib\\site-packages\\sklearn\\metrics\\_classification.py:1469: UndefinedMetricWarning: Recall is ill-defined and being set to 0.0 due to no true samples. Use `zero_division` parameter to control this behavior.\n",
      "  _warn_prf(average, modifier, msg_start, len(result))\n",
      "100%|██████████| 130/130 [01:47<00:00,  1.21it/s]\n"
     ]
    }
   ],
   "source": [
    "score=[]\n",
    "for pred_y, true_y in tqdm(zip(pred_mask, true_mask), total=len(pred_mask)):\n",
    "    name = pred_y.split('/')[-1]\n",
    "    pred_y = cv2.imread(pred_y, cv2.IMREAD_GRAYSCALE)\n",
    "    pred_y = pred_y/255.0\n",
    "    pred_y = pred_y>0.5\n",
    "    pred_y = pred_y.astype(np.int32)\n",
    "    pred_y = pred_y.flatten()\n",
    "\n",
    "    true_y = cv2.imread(true_y, cv2.IMREAD_GRAYSCALE)\n",
    "    true_y = true_y/255.0\n",
    "    true_y = true_y>0.5\n",
    "    true_y = true_y.astype(np.int32)\n",
    "    true_y = true_y.flatten()\n",
    "    \n",
    "    acc = accuracy_score(pred_y, true_y)\n",
    "    f1_value = f1_score(pred_y, true_y, labels=[0,1], average='binary')\n",
    "    jac_value = jaccard_score(pred_y, true_y, labels=[0,1], average='binary')\n",
    "    recall = recall_score(pred_y, true_y, labels=[0,1], average='binary')\n",
    "    precision = precision_score(pred_y, true_y, labels=[0,1], average='binary')\n",
    "    score.append([name, acc, f1_value, jac_value,recall,precision])"
   ]
  },
  {
   "cell_type": "code",
   "execution_count": 23,
   "metadata": {},
   "outputs": [],
   "source": [
    "score = [s[1:] for s in score]"
   ]
  },
  {
   "cell_type": "code",
   "execution_count": 25,
   "metadata": {},
   "outputs": [],
   "source": [
    "scores = np.mean(score, axis=0)"
   ]
  },
  {
   "cell_type": "code",
   "execution_count": 27,
   "metadata": {},
   "outputs": [
    {
     "name": "stdout",
     "output_type": "stream",
     "text": [
      "Accuracy is : 0.86874\n",
      "F1 Score is : 0.37308\n",
      "Jaccard is : 0.27304\n",
      "Recall is : 0.47114\n",
      "Precision is : 0.42989\n"
     ]
    }
   ],
   "source": [
    "print(f\"Accuracy is : {scores[0]:0.5f}\")\n",
    "print(f\"F1 Score is : {scores[1]:0.5f}\")\n",
    "print(f\"Jaccard is : {scores[2]:0.5f}\")\n",
    "print(f\"Recall is : {scores[3]:0.5f}\")\n",
    "print(f\"Precision is : {scores[4]:0.5f}\")"
   ]
  },
  {
   "cell_type": "code",
   "execution_count": null,
   "metadata": {},
   "outputs": [],
   "source": []
  }
 ],
 "metadata": {
  "kernelspec": {
   "display_name": "nik_venv",
   "language": "python",
   "name": "python3"
  },
  "language_info": {
   "codemirror_mode": {
    "name": "ipython",
    "version": 3
   },
   "file_extension": ".py",
   "mimetype": "text/x-python",
   "name": "python",
   "nbconvert_exporter": "python",
   "pygments_lexer": "ipython3",
   "version": "3.10.12"
  },
  "orig_nbformat": 4
 },
 "nbformat": 4,
 "nbformat_minor": 2
}
